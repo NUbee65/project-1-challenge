{
 "cells": [
  {
   "cell_type": "code",
   "execution_count": 2,
   "metadata": {},
   "outputs": [],
   "source": [
    "# Dependencies\n",
    "import pandas as pd\n",
    "import numpy as np"
   ]
  },
  {
   "cell_type": "code",
   "execution_count": 8,
   "metadata": {},
   "outputs": [
    {
     "data": {
      "text/html": [
       "<div>\n",
       "<style scoped>\n",
       "    .dataframe tbody tr th:only-of-type {\n",
       "        vertical-align: middle;\n",
       "    }\n",
       "\n",
       "    .dataframe tbody tr th {\n",
       "        vertical-align: top;\n",
       "    }\n",
       "\n",
       "    .dataframe thead th {\n",
       "        text-align: right;\n",
       "    }\n",
       "</style>\n",
       "<table border=\"1\" class=\"dataframe\">\n",
       "  <thead>\n",
       "    <tr style=\"text-align: right;\">\n",
       "      <th></th>\n",
       "      <th>State</th>\n",
       "      <th>Week Ending Date</th>\n",
       "      <th>Cov Deaths</th>\n",
       "      <th>Prob Ttl Cov Deaths</th>\n",
       "      <th>Prob Under Report %</th>\n",
       "    </tr>\n",
       "  </thead>\n",
       "  <tbody>\n",
       "  </tbody>\n",
       "</table>\n",
       "</div>"
      ],
      "text/plain": [
       "Empty DataFrame\n",
       "Columns: [State, Week Ending Date, Cov Deaths, Prob Ttl Cov Deaths, Prob Under Report %]\n",
       "Index: []"
      ]
     },
     "execution_count": 8,
     "metadata": {},
     "output_type": "execute_result"
    }
   ],
   "source": [
    "# Create an empty dataframe with column headers\n",
    "master_df = pd.DataFrame(columns = [\"State\", \"Week Ending Date\",\"Cov Deaths\",\"Prob Ttl Cov Deaths\", \"Prob Under Report %\"])\n",
    "master_df"
   ]
  },
  {
   "cell_type": "code",
   "execution_count": null,
   "metadata": {},
   "outputs": [],
   "source": [
    "\n",
    "\n",
    "for state in states_list:\n",
    "    \n",
    "    df1 = df.loc[df[\"State\"] == state]\n",
    "    \n",
    "    wt_all_df = df1.loc[(df1[\"Type\"] == \"Predicted (weighted)\") & (df1[\"Outcome\"] == \"All causes\")]\n",
    "    wt_xcov_df = df1.loc[(df1[\"Type\"] == \"Predicted (weighted)\") & (df1[\"Outcome\"] == \"All causes, excluding COVID-19\")]\n",
    "    \n",
    "    sum_df = wt_all_df[[\"State\",\"Week Ending Date\",\"Observed Number\",\"Average Expected Count\"]]\n",
    "    sum_df = sum_df.rename(columns={\"Observed Number\": \"Total Deaths\", \"Average Expected Count\": \"Avg Expect Deaths\"})\n",
    "    \n",
    "    # Not sure we need this...\n",
    "    deaths_xcov = wt_xcov_df[\"Observed Number\"].tolist()\n",
    "    \n",
    "    sum_df[\"Ttl Deaths x-Cov\"] = wt_xcov_df[\"Observed Number\"].tolist()\n",
    "    \n",
    "    sum_df[\"Cov Deaths\"] = sum_df[\"Total Deaths\"] - sum_df[\"Ttl Deaths x-Cov\"]\n",
    "    \n",
    "    sum_df[\"Excess Deaths\"] = sum_df[\"Ttl Deaths x-Cov\"] - sum_df[\"Avg Expect Deaths\"]\n",
    "    \n",
    "    sum_df[\"Excess Deaths\"] = np.where(sum_df[\"Excess Deaths\"] < 0, 0, sum_df[\"Excess Deaths\"])\n",
    "    \n",
    "    sum_df[\"Prob Ttl Cov Deaths\"] = sum_df[\"Cov Deaths\"] + sum_df[\"Excess Deaths\"]\n",
    "    \n",
    "    sum_df[\"Prob Under Report %\"] = (sum_df[\"Excess Deaths\"] / sum_df[\"Prob Ttl Cov Deaths\"]) * 100\n",
    "    \n",
    "    state_cov_deaths_df = sum_df[[\"State\",\"Week Ending Date\",\"Cov Deaths\",\"Prob Ttl Cov Deaths\", \"Prob Under Report %\"]].tail(33)\n",
    "    \n",
    "    state_cov_deaths_df[\"Prob Under Report %\"] = state_cov_deaths_df[\"Prob Under Report %\"].fillna(0)\n",
    "    \n",
    "    # Combine the data into a single dataset\n",
    "    mouse_study_df = pd.merge(master_df, covid_deaths_df, on=[\"State\", \n",
    "                                                              \"Week Ending Date\",\n",
    "                                                              \"Cov Deaths\",\n",
    "                                                              \"Prob Ttl Cov Deaths\", \n",
    "                                                              \"Prob Under Report %\"]\n",
    "                              )\n",
    "    "
   ]
  }
 ],
 "metadata": {
  "kernelspec": {
   "display_name": "Python 3",
   "language": "python",
   "name": "python3"
  },
  "language_info": {
   "codemirror_mode": {
    "name": "ipython",
    "version": 3
   },
   "file_extension": ".py",
   "mimetype": "text/x-python",
   "name": "python",
   "nbconvert_exporter": "python",
   "pygments_lexer": "ipython3",
   "version": "3.8.5"
  }
 },
 "nbformat": 4,
 "nbformat_minor": 4
}
